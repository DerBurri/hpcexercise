{
 "cells": [
  {
   "cell_type": "code",
   "execution_count": null,
   "metadata": {},
   "outputs": [
    {
     "ename": "",
     "evalue": "",
     "output_type": "error",
     "traceback": [
      "\u001b[1;31mFailed to start the Kernel '.venv (Python 3.11.2)'. \n",
      "\u001b[1;31mView Jupyter <a href='command:jupyter.viewOutput'>log</a> for further details. Unknown system error -122: Unknown system error -122, mkdir '/shares/zitipoolhome/mi312/.vscode-server/data/User/globalStorage/ms-toolsai.jupyter/version-2024.10.0/jupyter/runtime'"
     ]
    }
   ],
   "source": [
    "import os\n",
    "import glob\n",
    "import pandas as pd\n",
    "import matplotlib.pyplot as plt\n",
    "from matplotlib import font_manager\n",
    "from itertools import cycle\n",
    "import re\n",
    "\n",
    "plt.rc(\"ytick.major\", size=5, width=1)\n",
    "plt.rcParams[\"text.usetex\"] = False\n",
    "plt.rcParams[\"font.family\"] = \"serif\"\n",
    "# plt.rcParams[\"font.serif\"] = \"Times New Roman\"\n",
    "plt.rcParams[\"font.size\"] = 15\n",
    "plt.rcParams[\"xtick.labelsize\"] = 20\n",
    "plt.rcParams[\"ytick.labelsize\"] = 20\n",
    "plt.rcParams[\"axes.titlesize\"] = 22\n",
    "plt.rcParams[\"axes.labelsize\"] = 22"
   ]
  },
  {
   "cell_type": "markdown",
   "metadata": {},
   "source": [
    "# 3.2"
   ]
  },
  {
   "cell_type": "code",
   "execution_count": null,
   "metadata": {},
   "outputs": [],
   "source": [
    "#N,Blocks,Threads,Single-pass,Multi-pass\n",
    "df = pd.read_csv(\"threadFenceReduction.csv\")\n",
    "\n",
    "#average runs with identical parameters N,Blocks,Threads\n",
    "df = df.groupby([\"N\", \"Blocks\", \"Threads\"]).mean().reset_index()"
   ]
  },
  {
   "cell_type": "code",
   "execution_count": null,
   "metadata": {},
   "outputs": [],
   "source": [
    "# Define colors and markers\n",
    "colors = ['green', 'blue', 'orange', 'purple', 'red', 'cyan', 'magenta', 'black', 'brown', 'pink', 'gray', 'olive', 'lime', 'navy', 'teal', 'maroon', 'aqua', 'fuchsia']\n",
    "markers = ['o', 's', 'D', '^', 'v', '<', '>', 'p', '*', 'h', 'H', '+']\n",
    "linestyles = ['-', '--', '-.', ':']\n",
    "# Create cycles for colors and markers\n",
    "color_cycle = cycle(colors)\n",
    "marker_cycle = cycle(markers)\n",
    "linestyle_cycle = cycle(linestyles)\n",
    "\n",
    "plt.figure(figsize=(20, 6))\n",
    "\n",
    "# filter df by blocks size and threads\n",
    "for size in df[\"N\"].unique():\n",
    "    marker = next(marker_cycle)\n",
    "    linestyle = next(linestyle_cycle)\n",
    "    if size < 1024:\n",
    "        l= str(size)\n",
    "    elif size < 1024**2:\n",
    "        l= f\"{size // 1024}k\"\n",
    "    elif size < 1024**3:\n",
    "        l= f\"{size // 1024**2}M\"\n",
    "    else:\n",
    "        l= f\"{size // 1024**3}G\"\n",
    "    dff = df[(df[\"N\"] == size) & (df[\"Threads\"] == 128)]    \n",
    "    color = next(color_cycle)\n",
    "    linestyle = '--'\n",
    "    plt.plot(dff[\"Blocks\"],dff[\"SingleGB/s\"], label=f\"n,{l}\", color=color, marker=marker, linestyle=linestyle)\n",
    "    linestyle = '-'\n",
    "    plt.plot(dff[\"Blocks\"],dff[\"MultiGB/s\"], label=f\"y,{l}\", color=color, marker=marker, linestyle=linestyle)\n",
    "\n",
    "plt.xscale(\"log\", base=2)\n",
    "plt.yscale(\"log\")\n",
    "# plt.ylim(1e-4)\n",
    "# plt.xlim(2**(0),2**29)\n",
    "plt.xlabel(\"# Blocks\")\n",
    "plt.ylabel(\"Bandwidth (Elements/s)\")\n",
    "plt.title(\"ThreadFenceReduction Bandwidth over Blocks for different Sizes\")\n",
    "plt.legend(title=\"#threads:128\\nmultipass,size:\", ncols=5, loc='center left', bbox_to_anchor=(1, 0.5))\n",
    "plt.grid(which=\"major\")\n",
    "plt.tight_layout()\n",
    "plt.savefig(\"threadFenceReduction_absolute.pdf\", bbox_inches=\"tight\")\n",
    "plt.show()"
   ]
  },
  {
   "cell_type": "code",
   "execution_count": null,
   "metadata": {},
   "outputs": [],
   "source": [
    "# Define colors and markers\n",
    "colors = ['green', 'blue', 'orange', 'purple', 'red', 'cyan', 'magenta', 'black', 'brown', 'pink', 'gray', 'olive', 'lime', 'navy', 'teal', 'maroon', 'aqua', 'fuchsia']\n",
    "markers = ['o', 's', 'D', '^', 'v', '<', '>', 'p', '*', 'h', 'H', '+']\n",
    "linestyle = ['-', '--', '-.', ':']\n",
    "\n",
    "# Create cycles for colors and markers\n",
    "color_cycle = cycle(colors)\n",
    "marker_cycle = cycle(markers)\n",
    "linestyle_cycle = cycle(linestyle)\n",
    "\n",
    "plt.figure(figsize=(13, 7))\n",
    "\n",
    "# filter df by blocks size and threads\n",
    "for size in df[\"N\"].unique():\n",
    "    # for threads in df[\"Threads\"].unique():\n",
    "    dff = df[(df[\"N\"] == size) & (df[\"Threads\"] == 128)]     \n",
    "    diff = dff[\"MultiGB/s\"]/dff[\"SingleGB/s\"]\n",
    "    color = next(color_cycle)\n",
    "    marker = next(marker_cycle)\n",
    "    linestyle = next(linestyle_cycle)\n",
    "    if size < 1024:\n",
    "        l= str(size)\n",
    "    elif size < 1024**2:\n",
    "        l= f\"{size // 1024}k\"\n",
    "    elif size < 1024**3:\n",
    "        l= f\"{size // 1024**2}M\"\n",
    "    else:\n",
    "        l= f\"{size // 1024**3}G\"\n",
    "    plt.plot(dff[\"Blocks\"],diff, label=l, color=color, marker=marker, linestyle=linestyle)\n",
    "\n",
    "plt.plot(range(0,2**20),[1 for i in range(0,2**20)],color=\"black\",linestyle=\"-\")\n",
    "plt.xscale(\"log\", base=2)\n",
    "plt.yscale(\"log\")\n",
    "plt.xlim(1,2**19.5)\n",
    "plt.xlabel(\"# Blocks\")\n",
    "plt.ylabel(\"(Multipass BW)/(Single Pass BW)\")\n",
    "# plt.title(\"ThreadFenceReduction Performance Comparison Single Pass vs. Multipass over\\nBlocks of Different Sizes, with a Maximum Performance Difference > 5%\", loc=\"left\")\n",
    "plt.legend(title=\"#threads: 128\\nsize:\", ncol=2, loc='center left', bbox_to_anchor=(1, 0.5))\n",
    "plt.grid(which=\"major\")\n",
    "plt.tight_layout()\n",
    "plt.savefig(\"threadFenceReduction_relative.pdf\", bbox_inches=\"tight\")\n",
    "plt.show()"
   ]
  },
  {
   "cell_type": "code",
   "execution_count": null,
   "metadata": {},
   "outputs": [],
   "source": [
    "# get best performing # blocks for each size\n",
    "\n",
    "\n",
    "# Define colors and markers\n",
    "colors = ['green', 'blue', 'orange', 'purple', 'red', 'cyan', 'magenta', 'yellow', 'brown', 'pink', 'gray', 'olive', 'lime', 'navy', 'teal', 'maroon', 'aqua', 'fuchsia']\n",
    "markers = ['o', 's', 'D', '^', 'v', '<', '>', 'p', '*', 'h', 'H', '+']\n",
    "\n",
    "# Create cycles for colors and markers\n",
    "color_cycle = cycle(colors)\n",
    "marker_cycle = cycle(markers)\n",
    "\n",
    "# filter df by blocks size and threads\n",
    "best_blocks = []\n",
    "\n",
    "for size in df[\"N\"].unique():\n",
    "    dff = df[(df[\"N\"] == size)]\n",
    "    best_block_single = dff.loc[dff[\"SingleGB/s\"].idxmax()]\n",
    "    best_block_multi = dff.loc[dff[\"MultiGB/s\"].idxmax()]\n",
    "    if best_block_single.max() > best_block_multi.max(): best_blocks.append(best_block_single)\n",
    "    else: best_blocks.append(best_block_multi)\n",
    "\n",
    "#remove data\n",
    "# Create a DataFrame with the best performing blocks\n",
    "best_blocks_df = pd.DataFrame(best_blocks)\n",
    "table = best_blocks_df.to_latex(index=False)\n",
    "\n",
    "with open(\"table.tex\", \"w\") as f:\n",
    "    f.write(table)"
   ]
  },
  {
   "cell_type": "markdown",
   "metadata": {},
   "source": [
    "# 3.3"
   ]
  },
  {
   "cell_type": "code",
   "execution_count": null,
   "metadata": {},
   "outputs": [],
   "source": [
    "# kernelNr,nElements,timeMs,BWGBs\n",
    "df = pd.read_csv(\"reduction.csv\")"
   ]
  },
  {
   "cell_type": "code",
   "execution_count": null,
   "metadata": {},
   "outputs": [],
   "source": [
    "# Define colors and markers\n",
    "colors = ['green', 'blue', 'orange', 'purple', 'red', 'cyan', 'magenta', 'black', 'brown', 'pink', 'gray', 'olive', 'lime', 'navy', 'teal', 'maroon', 'aqua', 'fuchsia']\n",
    "markers = ['o', 's', 'D', '^', 'v', '<', '>', 'p', '*', 'h', 'H', '+']\n",
    "linestyles = ['-', '--', '-.', ':']\n",
    "# Create cycles for colors and markers\n",
    "color_cycle = cycle(colors)\n",
    "marker_cycle = cycle(markers)\n",
    "linestyle_cycle = cycle(linestyles)\n",
    "\n",
    "plt.figure(figsize=(20, 6))\n",
    "\n",
    "for size in df\n",
    "    marker = next(marker_cycle)\n",
    "    linestyle = next(linestyle_cycle)\n",
    "    if size < 1024:\n",
    "        l= str(size)\n",
    "    elif size < 1024**2:\n",
    "        l= f\"{size // 1024}k\"\n",
    "    elif size < 1024**3:\n",
    "        l= f\"{size // 1024**2}M\"\n",
    "    else:\n",
    "        l= f\"{size // 1024**3}G\"\n",
    "    color = next(color_cycle)\n",
    "    linestyle = '--'\n",
    "    dff = df[df[\"kernelNr\"] == str(10)]\n",
    "    plt.plot(dff[\"nElements\"],dff[\"BWGBs\"], label=f\"kernel1\", color=color, marker=marker, linestyle=linestyle)\n",
    "    linestyle = '-'\n",
    "    dff = df[df[\"kernelNr\"] == str(11)]\n",
    "    plt.plot(dff[\"kernelNr\"],dff[\"BWGBs\"], label=f\"kernel2\", color=color, marker=marker, linestyle=linestyle)"
   ]
  }
 ],
 "metadata": {
  "kernelspec": {
   "display_name": ".venv",
   "language": "python",
   "name": "python3"
  },
  "language_info": {
   "codemirror_mode": {
    "name": "ipython",
    "version": 3
   },
   "file_extension": ".py",
   "mimetype": "text/x-python",
   "name": "python",
   "nbconvert_exporter": "python",
   "pygments_lexer": "ipython3",
   "version": "3.11.2"
  }
 },
 "nbformat": 4,
 "nbformat_minor": 2
}
